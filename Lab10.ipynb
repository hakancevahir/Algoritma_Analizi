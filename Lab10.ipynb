{
 "cells": [
  {
   "cell_type": "code",
   "execution_count": 20,
   "metadata": {
    "collapsed": false
   },
   "outputs": [
    {
     "data": {
      "text/plain": [
       "[['a', 6, 3], ['b', 7, 3], ['c', 8, 2], ['d', 9, 5]]"
      ]
     },
     "execution_count": 20,
     "metadata": {},
     "output_type": "execute_result"
    }
   ],
   "source": [
    "def maxVal(toConsider, avail):\n",
    "    if toConsider == [] or avail ==0:\n",
    "        result = (0, ())\n",
    "    elif toConsider[0][2]>avail:  #burada .getWeight yerine 2 yazdık altta 2. değer weight değerimiz 0-names 1-vals 2-weights\n",
    "        result = maxVal(toConsider[1:], avail)\n",
    "    else:\n",
    "        nextItem=toConsider[0]\n",
    "        withVal, withToTake = maxVal(toConsider[1:],avail - nextItem[2])\n",
    "        withVal+=nextItem[1] #getValue yerine 1\n",
    "        withoutVal, withoutToTake = maxVal(toConsider[1:],avail)\n",
    "        if withVal > withoutVal:\n",
    "            result=(withVal, withToTake + (nextItem,))\n",
    "        else:\n",
    "            result=(withoutVal, withoutToTake)\n",
    "    return result\n",
    "\n",
    "def getitems():\n",
    "    names = ['a','b','c','d']\n",
    "    vals=[6,7,8,9]\n",
    "    weights=[3,3,2,5]\n",
    "    \n",
    "    items_a=[names[0],vals[0],weights[0]]\n",
    "    items_b=[names[1],vals[1],weights[1]]\n",
    "    items_c=[names[2],vals[2],weights[2]]\n",
    "    items_d=[names[3],vals[3],weights[3]]\n",
    "    items_c\n",
    "    \n",
    "    items=[items_a,items_b,items_c,items_d]\n",
    "    return items\n",
    "\n",
    "getitems()"
   ]
  },
  {
   "cell_type": "code",
   "execution_count": 21,
   "metadata": {
    "collapsed": false
   },
   "outputs": [
    {
     "data": {
      "text/plain": [
       "(24, (['d', 9, 5], ['c', 8, 2], ['b', 7, 3]))"
      ]
     },
     "execution_count": 21,
     "metadata": {},
     "output_type": "execute_result"
    }
   ],
   "source": [
    "items=getitems()\n",
    "maxVal(items,10)\n",
    "#(24, (['d', 9, 5], ['c', 8, 2], ['b', 7, 3])) --> b , c ve d kitaplarını aldığımızda weightimizi karşılayan en yüksek value değerine sahip olmuş oluyoruz."
   ]
  },
  {
   "cell_type": "code",
   "execution_count": null,
   "metadata": {
    "collapsed": true
   },
   "outputs": [],
   "source": []
  }
 ],
 "metadata": {
  "anaconda-cloud": {},
  "kernelspec": {
   "display_name": "Python [default]",
   "language": "python",
   "name": "python3"
  },
  "language_info": {
   "codemirror_mode": {
    "name": "ipython",
    "version": 3
   },
   "file_extension": ".py",
   "mimetype": "text/x-python",
   "name": "python",
   "nbconvert_exporter": "python",
   "pygments_lexer": "ipython3",
   "version": "3.5.2"
  }
 },
 "nbformat": 4,
 "nbformat_minor": 1
}
